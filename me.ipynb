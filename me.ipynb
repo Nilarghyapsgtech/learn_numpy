{
 "cells": [
  {
   "cell_type": "markdown",
   "metadata": {},
   "source": [
    "PRACTISE NUMPY\n",
    "[100_Numpy_exercises.ipynb](https://github.com/rougier/numpy-100/blob/master/100_Numpy_exercises.ipynb)"
   ]
  },
  {
   "cell_type": "markdown",
   "metadata": {},
   "source": []
  },
  {
   "cell_type": "code",
   "execution_count": 2,
   "metadata": {},
   "outputs": [
    {
     "name": "stdout",
     "output_type": "stream",
     "text": [
      "[[1 2 3 4]\n",
      " [4 5 6 7]]\n"
     ]
    }
   ],
   "source": [
    "import numpy as np\n",
    "array1=np.array([[1,2,3,4],[4,5,6,7]])\n",
    "print(array1)"
   ]
  },
  {
   "cell_type": "code",
   "execution_count": 8,
   "metadata": {},
   "outputs": [
    {
     "name": "stdout",
     "output_type": "stream",
     "text": [
      "[ 2  4  6  8 10 12 14 16 18 20]\n"
     ]
    }
   ],
   "source": [
    "array2=(np.arange(0,11,1)*2)\n",
    "print(np.trim_zeros(array2))"
   ]
  },
  {
   "cell_type": "code",
   "execution_count": 12,
   "metadata": {},
   "outputs": [
    {
     "name": "stdout",
     "output_type": "stream",
     "text": [
      "[[0. 0.]\n",
      " [0. 0.]]\n",
      "[[1. 1.]\n",
      " [1. 1.]]\n",
      "[[7 7]\n",
      " [7 7]]\n"
     ]
    }
   ],
   "source": [
    "array_zero=np.zeros((2,2))\n",
    "array_ones=np.ones((2,2))\n",
    "array_const=np.full((2,2),7)\n",
    "print(array_zero)\n",
    "print(array_ones)\n",
    "print(array_const)"
   ]
  },
  {
   "cell_type": "code",
   "execution_count": null,
   "metadata": {},
   "outputs": [
    {
     "name": "stdout",
     "output_type": "stream",
     "text": [
      "(4,)\n",
      "1\n",
      "4\n",
      "int64\n"
     ]
    }
   ],
   "source": [
    "array1=np.array([1,2,3,4])\n",
    "print(np.shape(array1))                             # Retrieves the Total nos of rows and Columns in the array\n",
    "print(np.ndim(array1))                              # Tells the dimension of the array\n",
    "print(np.size(array1))                              # Tells the length of the array\n",
    "print(array1.dtype)                                 # Tells the type of input in the array"
   ]
  },
  {
   "cell_type": "code",
   "execution_count": null,
   "metadata": {},
   "outputs": [
    {
     "name": "stdout",
     "output_type": "stream",
     "text": [
      "[[1 2]\n",
      " [3 4]\n",
      " [5 6]\n",
      " [7 8]]\n",
      "[1 2 3 4 5 6 7 8]\n",
      "[1 2 3 4 5 6 7 8]\n",
      "[[1 3 5 7]\n",
      " [2 4 6 8]]\n"
     ]
    }
   ],
   "source": [
    "array_demo=np.array([1,2,3,4,5,6,7,8])\n",
    "reshaped=array_demo.reshape(4,2)                 #Used to reshape the array for example Array to matrix\n",
    "print(reshaped)\n",
    "\n",
    "print(reshaped.flatten())                        #Used to flatten a matrix\n",
    "print(reshaped.ravel())                          #Used to Faltten a matrix (It is memory Efficient)\n",
    "print(reshaped.T)                                #Used to produce Transpose of an Array"
   ]
  },
  {
   "cell_type": "code",
   "execution_count": null,
   "metadata": {},
   "outputs": [
    {
     "name": "stdout",
     "output_type": "stream",
     "text": [
      "9\n",
      "[1 2 3]\n",
      "[1 4 7]\n"
     ]
    }
   ],
   "source": [
    "import numpy as np\n",
    "demo=[[1,2,3],[4,5,6],[7,8,9]]\n",
    "array1=np.array(demo)\n",
    "print(array1[2,2])                      #To get a particular Element\n",
    "print(array1[0])                        #To get a particular Row\n",
    "print(array1[:,0])                      #To get a particular Column"
   ]
  },
  {
   "cell_type": "code",
   "execution_count": 38,
   "metadata": {},
   "outputs": [
    {
     "name": "stdout",
     "output_type": "stream",
     "text": [
      "[1 2 3]\n",
      "[[1 2 3]\n",
      " [6 4 5]\n",
      " [7 8 9]]\n",
      "[[7 8 9]\n",
      " [1 2 3]\n",
      " [4 5 6]]\n"
     ]
    }
   ],
   "source": [
    "demo=[[7,8,9],[1,2,3],[6,4,5]]\n",
    "print(np.sort(demo[1]))             #sort a particular row of the matrix\n",
    "print(np.sort(demo,axis=0))         #sort a 2D matrix as per columns\n",
    "print(np.sort(demo,axis=1))         #sort a 2D matrix as per rows"
   ]
  },
  {
   "cell_type": "code",
   "execution_count": null,
   "metadata": {},
   "outputs": [
    {
     "name": "stdout",
     "output_type": "stream",
     "text": [
      "3\n"
     ]
    }
   ],
   "source": [
    "array_elements=np.array([1,2,3,4,5,6,7,8,9,10])                             #Use of masking\n",
    "process= array_elements%2==0\n",
    "print(array_elements[process])"
   ]
  },
  {
   "cell_type": "code",
   "execution_count": null,
   "metadata": {},
   "outputs": [
    {
     "name": "stdout",
     "output_type": "stream",
     "text": [
      "[False  True False  True False  True False  True False  True]\n"
     ]
    }
   ],
   "source": [
    "demo_array=np.where(array_elements%2==0,True,False)      #use of np.where\n",
    "print(demo_array)"
   ]
  },
  {
   "cell_type": "code",
   "execution_count": 48,
   "metadata": {},
   "outputs": [
    {
     "name": "stdout",
     "output_type": "stream",
     "text": [
      "[5 7 9]\n",
      "Compitiable: False\n"
     ]
    }
   ],
   "source": [
    "add_arrray_1=np.array([1,2,3])\n",
    "add_array_2=np.array([4,5,6])\n",
    "\n",
    "print(add_arrray_1+add_array_2)                                     # Used to add 2 arrays\n",
    "final_array=np.concatenate((add_arrray_1,add_array_2))              # Used to concat 2 arrays\n",
    "\n",
    "print(f\"Compitiable: {np.shape(add_array_2)==np.shape(final_array)}\")"
   ]
  },
  {
   "cell_type": "code",
   "execution_count": null,
   "metadata": {},
   "outputs": [
    {
     "name": "stdout",
     "output_type": "stream",
     "text": [
      "[[1 2 3]\n",
      " [4 5 6]] \n",
      "\n",
      "[[1 2 3]\n",
      " [4 5 6]\n",
      " [7 8 9]] \n",
      "\n",
      "[[  1   2   3  11  12  13]\n",
      " [  4   5   6  14  15  16]\n",
      " [  7   8   9  17 118  19]] \n",
      "\n"
     ]
    }
   ],
   "source": [
    "array_original=np.array([[1,2,3],[4,5,6]])\n",
    "arrray_to_be_added_row=np.array([[7,8,9]])\n",
    "arrray_to_be_added_column=np.array([[11,12,13],[14,15,16],[17,118,19]])\n",
    "new_array_row=np.vstack((array_original,arrray_to_be_added_row))                #np.vstack() used to add rows to the array\n",
    "new_array_column=np.hstack((new_array_row,arrray_to_be_added_column))           #np.hstack()  used to add new columns to the array\n",
    "\n",
    "print(array_original,'\\n')\n",
    "print(new_array_row,'\\n')\n",
    "print(new_array_column,'\\n')"
   ]
  },
  {
   "cell_type": "code",
   "execution_count": null,
   "metadata": {},
   "outputs": [
    {
     "name": "stdout",
     "output_type": "stream",
     "text": [
      "[[1 2 3]]\n"
     ]
    }
   ],
   "source": [
    "array=np.array([[1,2,3],[4,5,6]])\n",
    "array_modified=np.delete(array,1,axis=0)                # Used to Delete The Array\n",
    "print(array_modified)"
   ]
  },
  {
   "cell_type": "code",
   "execution_count": null,
   "metadata": {},
   "outputs": [
    {
     "name": "stdout",
     "output_type": "stream",
     "text": [
      "[array([1, 2]), array([3, 4]), array([5, 6])]\n"
     ]
    }
   ],
   "source": [
    "#We use array_split() for splitting arrays, we pass it the array we want to split and the number of splits.\n",
    "arr = np.array([1, 2, 3, 4, 5, 6])\n",
    "\n",
    "newarr = np.array_split(arr, 3)                \n",
    "\n",
    "print(newarr)"
   ]
  },
  {
   "cell_type": "code",
   "execution_count": 3,
   "metadata": {},
   "outputs": [
    {
     "name": "stdout",
     "output_type": "stream",
     "text": [
      "[array([1, 2]), array([3, 4]), array([5, 6]), array([7, 8]), array([ 9, 10])]\n"
     ]
    }
   ],
   "source": [
    "import numpy as np\n",
    "demo_array=np.array([1,2,3,4,5,6,7,8,9,10])\n",
    "print(np.array_split(demo_array,5))"
   ]
  }
 ],
 "metadata": {
  "kernelspec": {
   "display_name": "env",
   "language": "python",
   "name": "python3"
  },
  "language_info": {
   "codemirror_mode": {
    "name": "ipython",
    "version": 3
   },
   "file_extension": ".py",
   "mimetype": "text/x-python",
   "name": "python",
   "nbconvert_exporter": "python",
   "pygments_lexer": "ipython3",
   "version": "3.13.2"
  }
 },
 "nbformat": 4,
 "nbformat_minor": 2
}
